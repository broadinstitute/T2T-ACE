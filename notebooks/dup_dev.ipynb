{
 "cells": [
  {
   "cell_type": "code",
   "execution_count": 89,
   "outputs": [],
   "source": [
    "import T2T_ACE.duplication_evaluation as duplication_evaluation\n",
    "from T2T_ACE.alignment_utilities import load_reference\n",
    "import T2T_ACE.validator as v\n",
    "import importlib\n",
    "import T2T_ACE.dup_basepair_correction as dup_basepair_correction"
   ],
   "metadata": {
    "collapsed": false,
    "ExecuteTime": {
     "end_time": "2023-12-10T21:49:11.781131Z",
     "start_time": "2023-12-10T21:49:11.751230Z"
    }
   },
   "id": "94226748497d"
  },
  {
   "cell_type": "code",
   "execution_count": 2,
   "outputs": [
    {
     "name": "stderr",
     "output_type": "stream",
     "text": [
      "INFO:root:Loading reference from: /Users/gaoyueya/Documents/Reference_Genome/hg002v1.0.fasta\n",
      "INFO:root:Loading reference from: /Users/gaoyueya/Documents/Reference_Genome/Homo_sapiens_assembly38.fasta\n"
     ]
    }
   ],
   "source": [
    "# Update the reference genomes to local path\n",
    "class ReferenceLocations:\n",
    "        hg002t2t = \"/Users/gaoyueya/Documents/Reference_Genome/hg002v1.0.fasta\"\n",
    "        chm13 = \"/Users/gaoyueya/Documents/Reference_Genome/chm13v2.0.fa.gz\"\n",
    "        hg38 = \"/Users/gaoyueya/Documents/Reference_Genome/Homo_sapiens_assembly38.fasta\"\n",
    "\n",
    "# Load the minimap2 aligner from reference fasta file\n",
    "# Load HG002 T2T reference\n",
    "hg002t2t = load_reference(ReferenceLocations.hg002t2t)\n",
    "# Load hg38 reference\n",
    "hg38 = load_reference(ReferenceLocations.hg38)"
   ],
   "metadata": {
    "collapsed": false,
    "ExecuteTime": {
     "end_time": "2023-12-10T19:40:24.411195Z",
     "start_time": "2023-12-10T19:38:12.789654Z"
    }
   },
   "id": "17022b1e2ad1f9f2"
  },
  {
   "cell_type": "code",
   "execution_count": 56,
   "outputs": [
    {
     "data": {
      "text/plain": "<module 'T2T_ACE.validator' from '/Users/gaoyueya/Documents/GitHub/T2T-ACE/T2T_ACE/validator.py'>"
     },
     "execution_count": 56,
     "metadata": {},
     "output_type": "execute_result"
    }
   ],
   "source": [
    "importlib.reload(v)"
   ],
   "metadata": {
    "collapsed": false,
    "ExecuteTime": {
     "end_time": "2023-12-10T20:34:53.931026Z",
     "start_time": "2023-12-10T20:34:53.900600Z"
    }
   },
   "id": "9f12c3fa9e05a104"
  },
  {
   "cell_type": "code",
   "execution_count": 108,
   "outputs": [
    {
     "data": {
      "text/plain": "<module 'T2T_ACE.dup_basepair_correction' from '/Users/gaoyueya/Documents/GitHub/T2T-ACE/T2T_ACE/dup_basepair_correction.py'>"
     },
     "execution_count": 108,
     "metadata": {},
     "output_type": "execute_result"
    }
   ],
   "source": [
    "importlib.reload(dup_basepair_correction)"
   ],
   "metadata": {
    "collapsed": false,
    "ExecuteTime": {
     "end_time": "2023-12-10T22:06:46.288124Z",
     "start_time": "2023-12-10T22:06:46.273540Z"
    }
   },
   "id": "e92723087a36e0d0"
  },
  {
   "cell_type": "code",
   "execution_count": 117,
   "outputs": [
    {
     "data": {
      "text/plain": "<module 'T2T_ACE.duplication_evaluation' from '/Users/gaoyueya/Documents/GitHub/T2T-ACE/T2T_ACE/duplication_evaluation.py'>"
     },
     "execution_count": 117,
     "metadata": {},
     "output_type": "execute_result"
    }
   ],
   "source": [
    "importlib.reload(duplication_evaluation)"
   ],
   "metadata": {
    "collapsed": false,
    "ExecuteTime": {
     "end_time": "2023-12-10T22:14:19.557636Z",
     "start_time": "2023-12-10T22:14:19.543321Z"
    }
   },
   "id": "57b50d5377ba45a6"
  },
  {
   "cell_type": "code",
   "execution_count": null,
   "outputs": [],
   "source": [
    "# BasePair Correction Dev\n",
    "#TODO: Check the alignment in hg38 and hg2 and obtain the difference between the real DUP event vs DRAGEN call DONE\n",
    "#TODO: Complete the extension function DONE\n",
    "#TODO: Incorporate those functions to dup_eval class DONE\n",
    "#TODO: Added the alignment results of the corrected interval"
   ],
   "metadata": {
    "collapsed": false
   },
   "id": "fe50678b769c5c7d"
  },
  {
   "cell_type": "code",
   "execution_count": 120,
   "outputs": [
    {
     "name": "stdout",
     "output_type": "stream",
     "text": [
      "Analyzing the DUP interval chr6:256330-381943(125614bp)\n",
      "The called interval pos needs to be moved to the right by 177bp\n",
      "The called interval end needs to be checked by extend_2_right\n",
      "Using extend_2_right to check the end\n",
      "extending window size 12562\n",
      "new interval chr6:256330-394506 138177\n",
      "[[126132, 1], [138177, 2]]\n",
      "extend interval by 517\n",
      "-------------------------------------------\n",
      "The corrected interval is chr6:256507-382462 (125956bp)\n",
      "The corrected interval is 342bp longer than the original interval\n",
      "-------------------------------------------\n"
     ]
    },
    {
     "data": {
      "text/plain": "'chr6:256507-382462'"
     },
     "execution_count": 120,
     "metadata": {},
     "output_type": "execute_result"
    }
   ],
   "source": [
    "duplication_evaluation.eval_dup_interval(\"chr6:256330-381943\", ReferenceLocations.hg38, ReferenceLocations.hg002t2t, hg38, hg002t2t).analyzeDuplicationIntervals()"
   ],
   "metadata": {
    "collapsed": false,
    "ExecuteTime": {
     "end_time": "2023-12-10T22:15:48.470270Z",
     "start_time": "2023-12-10T22:15:47.306721Z"
    }
   },
   "id": "ed7401831205ee9a"
  },
  {
   "cell_type": "code",
   "execution_count": null,
   "outputs": [],
   "source": [],
   "metadata": {
    "collapsed": false
   },
   "id": "d0a30766c93f1c2e"
  }
 ],
 "metadata": {
  "kernelspec": {
   "display_name": "Python 3",
   "language": "python",
   "name": "python3"
  },
  "language_info": {
   "codemirror_mode": {
    "name": "ipython",
    "version": 2
   },
   "file_extension": ".py",
   "mimetype": "text/x-python",
   "name": "python",
   "nbconvert_exporter": "python",
   "pygments_lexer": "ipython2",
   "version": "2.7.6"
  }
 },
 "nbformat": 4,
 "nbformat_minor": 5
}
