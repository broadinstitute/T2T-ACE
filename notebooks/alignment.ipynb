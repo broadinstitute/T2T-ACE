{
 "cells": [
  {
   "cell_type": "code",
   "execution_count": 1,
   "metadata": {
    "collapsed": false,
    "ExecuteTime": {
     "end_time": "2023-11-12T02:52:44.403436Z",
     "start_time": "2023-11-12T02:52:43.872704Z"
    }
   },
   "outputs": [],
   "source": [
    "import T2T_ACE.alignment_utilities as au\n",
    "import T2T_ACE.interval_parsing  as ip\n",
    "import T2T_ACE.alignment_visualization_utilities as avu\n",
    "\n",
    "from T2T_ACE.validator import get_flanking_pairs\n",
    "\n",
    "import warnings\n",
    "warnings.filterwarnings( \"ignore\", module = \"seaborn\\..*\" )\n",
    "warnings.filterwarnings( \"ignore\", module = \"matplotlib\\..*\" )"
   ]
  },
  {
   "cell_type": "code",
   "execution_count": 2,
   "outputs": [],
   "source": [
    "class ReferenceLocations:\n",
    "    whole_genome = False\n",
    "    if whole_genome:\n",
    "        hg002t2t = \"/Users/fleharty/resources/hg002_v1.0.fasta.gz\"\n",
    "        hg002t2tmat = \"/Users/fleharty/resources/hg002mat_v1.0.fasta.gz\"\n",
    "        hg002t2tpat = \"/Users/fleharty/resources/hg002pat_v1.0.fasta.gz\"\n",
    "        hg38 = \"/Users/fleharty/resources/Homo_sapiens_assembly38.fasta\"\n",
    "    else:\n",
    "        hg002t2t = \"/Users/fleharty/resources/hg002_v1.0.chr22.fasta.gz\"\n",
    "        hg002t2tmat = \"/Users/fleharty/resources/hg002mat_v1.0.chr22.fasta.gz\"\n",
    "        hg002t2tpat = \"/Users/fleharty/resources/hg002pat_v1.0.chr22.fasta.gz\"\n",
    "        hg38 = \"/Users/fleharty/resources/Homo_sapiens_assembly38.chr22.fasta.gz\"\n"
   ],
   "metadata": {
    "collapsed": false,
    "ExecuteTime": {
     "end_time": "2023-11-12T02:52:44.403644Z",
     "start_time": "2023-11-12T02:52:44.400662Z"
    }
   }
  },
  {
   "cell_type": "code",
   "execution_count": 3,
   "metadata": {
    "ExecuteTime": {
     "end_time": "2023-11-12T02:52:46.150932Z",
     "start_time": "2023-11-12T02:52:44.403243Z"
    }
   },
   "outputs": [
    {
     "name": "stderr",
     "output_type": "stream",
     "text": [
      "INFO:root:Loading reference from: /Users/fleharty/resources/hg002_v1.0.chr22.fasta.gz\n"
     ]
    }
   ],
   "source": [
    "hg002t2t = au.load_reference(ReferenceLocations.hg002t2t)"
   ]
  },
  {
   "cell_type": "code",
   "execution_count": 4,
   "outputs": [
    {
     "name": "stderr",
     "output_type": "stream",
     "text": [
      "INFO:root:Loading reference from: /Users/fleharty/resources/Homo_sapiens_assembly38.chr22.fasta.gz\n"
     ]
    }
   ],
   "source": [
    "hg38 = au.load_reference(ReferenceLocations.hg38)"
   ],
   "metadata": {
    "collapsed": false,
    "ExecuteTime": {
     "end_time": "2023-11-12T02:52:47.054063Z",
     "start_time": "2023-11-12T02:52:46.147720Z"
    }
   }
  },
  {
   "cell_type": "code",
   "execution_count": 5,
   "outputs": [
    {
     "name": "stderr",
     "output_type": "stream",
     "text": [
      "ERROR:root:Error: Chromosome chr1 not found in reference genome.\n"
     ]
    },
    {
     "ename": "KeyError",
     "evalue": "'Chromosome chr1 not found in reference genome.'",
     "output_type": "error",
     "traceback": [
      "\u001B[0;31m---------------------------------------------------------------------------\u001B[0m",
      "\u001B[0;31mKeyError\u001B[0m                                  Traceback (most recent call last)",
      "File \u001B[0;32m~/T2T-ACE/T2T_ACE/genomic_queries.py:39\u001B[0m, in \u001B[0;36mget_sequence_from_interval\u001B[0;34m(reference_fasta, interval)\u001B[0m\n\u001B[1;32m     37\u001B[0m     \u001B[38;5;28;01mwith\u001B[39;00m pysam\u001B[38;5;241m.\u001B[39mFastaFile(reference_fasta) \u001B[38;5;28;01mas\u001B[39;00m ref_genome:\n\u001B[1;32m     38\u001B[0m         \u001B[38;5;66;03m# Fetch the sequence\u001B[39;00m\n\u001B[0;32m---> 39\u001B[0m         sequence \u001B[38;5;241m=\u001B[39m \u001B[43mref_genome\u001B[49m\u001B[38;5;241;43m.\u001B[39;49m\u001B[43mfetch\u001B[49m\u001B[43m(\u001B[49m\u001B[43mchrom\u001B[49m\u001B[43m,\u001B[49m\u001B[43m \u001B[49m\u001B[43mstart\u001B[49m\u001B[38;5;241;43m-\u001B[39;49m\u001B[38;5;241;43m1\u001B[39;49m\u001B[43m,\u001B[49m\u001B[43m \u001B[49m\u001B[43mend\u001B[49m\u001B[43m)\u001B[49m\n\u001B[1;32m     40\u001B[0m \u001B[38;5;28;01mexcept\u001B[39;00m \u001B[38;5;167;01mKeyError\u001B[39;00m:\n",
      "File \u001B[0;32m/opt/homebrew/anaconda3/envs/cnv_validation/lib/python3.11/site-packages/pysam/libcfaidx.pyx:301\u001B[0m, in \u001B[0;36mpysam.libcfaidx.FastaFile.fetch\u001B[0;34m()\u001B[0m\n",
      "\u001B[0;31mKeyError\u001B[0m: \"sequence 'chr1' not present\"",
      "\nDuring handling of the above exception, another exception occurred:\n",
      "\u001B[0;31mKeyError\u001B[0m                                  Traceback (most recent call last)",
      "Cell \u001B[0;32mIn[5], line 4\u001B[0m\n\u001B[1;32m      2\u001B[0m simple_het_deletion \u001B[38;5;241m=\u001B[39m \u001B[38;5;124m\"\u001B[39m\u001B[38;5;124mchr1:103900576-103901103\u001B[39m\u001B[38;5;124m\"\u001B[39m\n\u001B[1;32m      3\u001B[0m \u001B[38;5;66;03m#ev = evaluate_deletion(ReferenceLocations.hg38, ReferenceLocations.hg002t2t, \"chr1:103900576-103901103\", hg38, hg002t2t, True)\u001B[39;00m\n\u001B[0;32m----> 4\u001B[0m \u001B[43mget_flanking_pairs\u001B[49m\u001B[43m(\u001B[49m\u001B[38;5;124;43m\"\u001B[39;49m\u001B[38;5;124;43mchr1:103900576-103901103\u001B[39;49m\u001B[38;5;124;43m\"\u001B[39;49m\u001B[43m,\u001B[49m\u001B[43m \u001B[49m\u001B[43mReferenceLocations\u001B[49m\u001B[38;5;241;43m.\u001B[39;49m\u001B[43mhg38\u001B[49m\u001B[43m,\u001B[49m\u001B[43m \u001B[49m\u001B[43mhg38\u001B[49m\u001B[43m,\u001B[49m\u001B[43m \u001B[49m\u001B[43mhg002t2t\u001B[49m\u001B[43m)\u001B[49m\n",
      "File \u001B[0;32m~/T2T-ACE/T2T_ACE/validator.py:150\u001B[0m, in \u001B[0;36mget_flanking_pairs\u001B[0;34m(interval, calling_reference_fasta, called_ref_aligner, truth_ref_aligner)\u001B[0m\n\u001B[1;32m    149\u001B[0m \u001B[38;5;28;01mdef\u001B[39;00m \u001B[38;5;21mget_flanking_pairs\u001B[39m(interval, calling_reference_fasta: \u001B[38;5;28mstr\u001B[39m, called_ref_aligner, truth_ref_aligner):\n\u001B[0;32m--> 150\u001B[0m     flanking_alignments \u001B[38;5;241m=\u001B[39m \u001B[43malign_flanking_sequences\u001B[49m\u001B[43m(\u001B[49m\u001B[43minterval\u001B[49m\u001B[43m,\u001B[49m\u001B[43m \u001B[49m\u001B[43mcalling_reference_fasta\u001B[49m\u001B[43m,\u001B[49m\n\u001B[1;32m    151\u001B[0m \u001B[43m                                                   \u001B[49m\u001B[43mcalled_ref_aligner\u001B[49m\u001B[43m,\u001B[49m\u001B[43m \u001B[49m\u001B[43mtruth_ref_aligner\u001B[49m\u001B[43m)\u001B[49m\n\u001B[1;32m    153\u001B[0m     stuff \u001B[38;5;241m=\u001B[39m {}\n\u001B[1;32m    154\u001B[0m     \u001B[38;5;28;01mtry\u001B[39;00m:\n",
      "File \u001B[0;32m~/T2T-ACE/T2T_ACE/validator.py:137\u001B[0m, in \u001B[0;36malign_flanking_sequences\u001B[0;34m(interval, calling_reference_fasta, called_ref_aligner, truth_ref_aligner, upper_bound)\u001B[0m\n\u001B[1;32m    134\u001B[0m \u001B[38;5;28;01mif\u001B[39;00m stop \u001B[38;5;241m-\u001B[39m start \u001B[38;5;241m>\u001B[39m upper_bound:\n\u001B[1;32m    135\u001B[0m     \u001B[38;5;28;01mraise\u001B[39;00m \u001B[38;5;167;01mValueError\u001B[39;00m(\u001B[38;5;124m\"\u001B[39m\u001B[38;5;124mInterval too large\u001B[39m\u001B[38;5;124m\"\u001B[39m)\n\u001B[0;32m--> 137\u001B[0m left_flank, right_flank \u001B[38;5;241m=\u001B[39m \u001B[43mget_flanking_regions\u001B[49m\u001B[43m(\u001B[49m\u001B[43mcalling_reference_fasta\u001B[49m\u001B[43m,\u001B[49m\u001B[43m \u001B[49m\u001B[43minterval\u001B[49m\u001B[43m,\u001B[49m\u001B[43m \u001B[49m\u001B[43mpadding\u001B[49m\u001B[38;5;241;43m=\u001B[39;49m\u001B[38;5;241;43m500\u001B[39;49m\u001B[43m)\u001B[49m\n\u001B[1;32m    138\u001B[0m left_flank_hg38_hits \u001B[38;5;241m=\u001B[39m [au\u001B[38;5;241m.\u001B[39mextract_interval_from_hit(_) \u001B[38;5;28;01mfor\u001B[39;00m _ \u001B[38;5;129;01min\u001B[39;00m called_ref_aligner\u001B[38;5;241m.\u001B[39mmap(left_flank)]\n\u001B[1;32m    139\u001B[0m left_flank_hg002t2t_hits \u001B[38;5;241m=\u001B[39m [au\u001B[38;5;241m.\u001B[39mextract_interval_from_hit(_) \u001B[38;5;28;01mfor\u001B[39;00m _ \u001B[38;5;129;01min\u001B[39;00m truth_ref_aligner\u001B[38;5;241m.\u001B[39mmap(left_flank)]\n",
      "File \u001B[0;32m~/T2T-ACE/T2T_ACE/genomic_queries.py:110\u001B[0m, in \u001B[0;36mget_flanking_regions\u001B[0;34m(reference_fasta, interval, padding)\u001B[0m\n\u001B[1;32m    107\u001B[0m     \u001B[38;5;28;01mraise\u001B[39;00m \u001B[38;5;167;01mValueError\u001B[39;00m(\u001B[38;5;124m\"\u001B[39m\u001B[38;5;124mPadding must be a positive integer.\u001B[39m\u001B[38;5;124m\"\u001B[39m)\n\u001B[1;32m    109\u001B[0m chrom, start, end \u001B[38;5;241m=\u001B[39m parse_interval(interval)\n\u001B[0;32m--> 110\u001B[0m left \u001B[38;5;241m=\u001B[39m \u001B[43mget_sequence_from_interval\u001B[49m\u001B[43m(\u001B[49m\u001B[43mreference_fasta\u001B[49m\u001B[43m,\u001B[49m\u001B[43m \u001B[49m\u001B[38;5;124;43mf\u001B[39;49m\u001B[38;5;124;43m\"\u001B[39;49m\u001B[38;5;132;43;01m{\u001B[39;49;00m\u001B[43mchrom\u001B[49m\u001B[38;5;132;43;01m}\u001B[39;49;00m\u001B[38;5;124;43m:\u001B[39;49m\u001B[38;5;132;43;01m{\u001B[39;49;00m\u001B[43mstart\u001B[49m\u001B[38;5;241;43m-\u001B[39;49m\u001B[43mpadding\u001B[49m\u001B[38;5;132;43;01m}\u001B[39;49;00m\u001B[38;5;124;43m-\u001B[39;49m\u001B[38;5;132;43;01m{\u001B[39;49;00m\u001B[43mstart\u001B[49m\u001B[38;5;241;43m-\u001B[39;49m\u001B[38;5;241;43m1\u001B[39;49m\u001B[38;5;132;43;01m}\u001B[39;49;00m\u001B[38;5;124;43m\"\u001B[39;49m\u001B[43m)\u001B[49m\n\u001B[1;32m    111\u001B[0m right \u001B[38;5;241m=\u001B[39m get_sequence_from_interval(reference_fasta, \u001B[38;5;124mf\u001B[39m\u001B[38;5;124m\"\u001B[39m\u001B[38;5;132;01m{\u001B[39;00mchrom\u001B[38;5;132;01m}\u001B[39;00m\u001B[38;5;124m:\u001B[39m\u001B[38;5;132;01m{\u001B[39;00mend\u001B[38;5;241m+\u001B[39m\u001B[38;5;241m1\u001B[39m\u001B[38;5;132;01m}\u001B[39;00m\u001B[38;5;124m-\u001B[39m\u001B[38;5;132;01m{\u001B[39;00mend\u001B[38;5;241m+\u001B[39mpadding\u001B[38;5;132;01m}\u001B[39;00m\u001B[38;5;124m\"\u001B[39m)\n\u001B[1;32m    113\u001B[0m \u001B[38;5;28;01mreturn\u001B[39;00m left, right\n",
      "File \u001B[0;32m~/T2T-ACE/T2T_ACE/genomic_queries.py:42\u001B[0m, in \u001B[0;36mget_sequence_from_interval\u001B[0;34m(reference_fasta, interval)\u001B[0m\n\u001B[1;32m     40\u001B[0m \u001B[38;5;28;01mexcept\u001B[39;00m \u001B[38;5;167;01mKeyError\u001B[39;00m:\n\u001B[1;32m     41\u001B[0m     logging\u001B[38;5;241m.\u001B[39merror(\u001B[38;5;124mf\u001B[39m\u001B[38;5;124m\"\u001B[39m\u001B[38;5;124mError: Chromosome \u001B[39m\u001B[38;5;132;01m{\u001B[39;00mchrom\u001B[38;5;132;01m}\u001B[39;00m\u001B[38;5;124m not found in reference genome.\u001B[39m\u001B[38;5;124m\"\u001B[39m)\n\u001B[0;32m---> 42\u001B[0m     \u001B[38;5;28;01mraise\u001B[39;00m \u001B[38;5;167;01mKeyError\u001B[39;00m(\u001B[38;5;124mf\u001B[39m\u001B[38;5;124m\"\u001B[39m\u001B[38;5;124mChromosome \u001B[39m\u001B[38;5;132;01m{\u001B[39;00mchrom\u001B[38;5;132;01m}\u001B[39;00m\u001B[38;5;124m not found in reference genome.\u001B[39m\u001B[38;5;124m\"\u001B[39m)\n\u001B[1;32m     43\u001B[0m \u001B[38;5;28;01mexcept\u001B[39;00m \u001B[38;5;167;01mException\u001B[39;00m \u001B[38;5;28;01mas\u001B[39;00m e:\n\u001B[1;32m     44\u001B[0m     logging\u001B[38;5;241m.\u001B[39merror(\u001B[38;5;124mf\u001B[39m\u001B[38;5;124m\"\u001B[39m\u001B[38;5;124mError: \u001B[39m\u001B[38;5;132;01m{\u001B[39;00me\u001B[38;5;132;01m}\u001B[39;00m\u001B[38;5;124m\"\u001B[39m)\n",
      "\u001B[0;31mKeyError\u001B[0m: 'Chromosome chr1 not found in reference genome.'"
     ]
    }
   ],
   "source": [
    "# SIMPLE SMALL HET DELETION\n",
    "simple_het_deletion = \"chr1:103900576-103901103\"\n",
    "#ev = evaluate_deletion(ReferenceLocations.hg38, ReferenceLocations.hg002t2t, \"chr1:103900576-103901103\", hg38, hg002t2t, True)\n",
    "get_flanking_pairs(\"chr1:103900576-103901103\", ReferenceLocations.hg38, hg38, hg002t2t)\n"
   ],
   "metadata": {
    "collapsed": false,
    "ExecuteTime": {
     "end_time": "2023-11-12T02:52:47.207911Z",
     "start_time": "2023-11-12T02:52:47.051973Z"
    }
   }
  },
  {
   "cell_type": "code",
   "execution_count": null,
   "outputs": [],
   "source": [
    "# SIMPLE SMALL HOM DELETION\n",
    "#ev = evaluate_deletion(ReferenceLocations.hg38, ReferenceLocations.hg002t2t, \"chr1:176509082-176509637\", hg38, hg002t2t, True)\n",
    "get_flanking_pairs(\"chr1:176509082-176509637\", ReferenceLocations.hg38, hg38, hg002t2t)\n"
   ],
   "metadata": {
    "collapsed": false,
    "ExecuteTime": {
     "end_time": "2023-11-12T02:52:47.212727Z",
     "start_time": "2023-11-12T02:52:47.210398Z"
    }
   }
  },
  {
   "cell_type": "code",
   "execution_count": null,
   "outputs": [],
   "source": [
    "# COMPLEX DELETION chr1:247687159-247693213\n",
    "# Has 6 matches to hg38 chr1, why?\n",
    "#ev = evaluate_deletion(ReferenceLocations.hg38, ReferenceLocations.hg002t2t, \"chr1:247687159-247693213\", hg38, hg002t2t)\n",
    "get_flanking_pairs(\"chr1:247687159-247693213\", ReferenceLocations.hg38, hg38, hg002t2t)\n"
   ],
   "metadata": {
    "collapsed": false,
    "ExecuteTime": {
     "start_time": "2023-11-12T02:52:47.212059Z"
    }
   }
  },
  {
   "cell_type": "code",
   "execution_count": null,
   "metadata": {
    "ExecuteTime": {
     "start_time": "2023-11-12T02:52:47.213940Z"
    }
   },
   "outputs": [],
   "source": [
    "# This is a DUP that we are going to check if it is a deletion\n",
    "#ev = evaluate_deletion(ReferenceLocations.hg38, ReferenceLocations.hg002t2t, \"chr1:248407554-248446847\", hg38, hg002t2t)\n",
    "get_flanking_pairs(\"chr1:248407554-248446847\", ReferenceLocations.hg38, hg38, hg002t2t)"
   ]
  },
  {
   "cell_type": "code",
   "execution_count": null,
   "outputs": [],
   "source": [
    "# This is a Dragen DEL call that is filtered by MinQUAL\n",
    "#ev = evaluate_deletion(ReferenceLocations.hg38, ReferenceLocations.hg002t2t, \"chr1:3643704-3644335\", hg38, hg002t2t)\n",
    "get_flanking_pairs(\"chr1:3643704-3644335\", ReferenceLocations.hg38, hg38, hg002t2t)"
   ],
   "metadata": {
    "collapsed": false,
    "ExecuteTime": {
     "start_time": "2023-11-12T02:52:47.215378Z"
    }
   }
  },
  {
   "cell_type": "code",
   "execution_count": null,
   "outputs": [],
   "source": [
    "# This is a Dragen DEL call that is filtered by cnvLength\n",
    "# Note that the joined sequence on hg002 only matches (0-50) on PATERNAL, and there is no (51-100) match on PATERNAL.\n",
    "# I think this is because the Dragen caller may be estimating the size too small?\n",
    "#ev = evaluate_deletion(ReferenceLocations.hg38, ReferenceLocations.hg002t2t, \"chr1:14109814-14112366\", hg38, hg002t2t)\n",
    "get_flanking_pairs(\"chr1:14109814-14112366\", ReferenceLocations.hg38, hg38, hg002t2t)"
   ],
   "metadata": {
    "collapsed": false,
    "ExecuteTime": {
     "start_time": "2023-11-12T02:52:47.216767Z"
    }
   }
  },
  {
   "cell_type": "code",
   "execution_count": null,
   "outputs": [],
   "source": [
    "get_flanking_pairs(\"chr1:125079843-125085826\", ReferenceLocations.hg38, hg38, hg002t2t)\n"
   ],
   "metadata": {
    "collapsed": false,
    "ExecuteTime": {
     "start_time": "2023-11-12T02:52:47.218349Z"
    }
   }
  },
  {
   "cell_type": "code",
   "execution_count": null,
   "metadata": {
    "ExecuteTime": {
     "start_time": "2023-11-12T02:52:47.220034Z"
    }
   },
   "outputs": [],
   "source": [
    "stuff = ['chr10:39521557-39533371']\n",
    "other_stuff = ['chr10_PATERNAL:39521557-39533371', 'chr10_MATERNAL:39475935-39487740', 'chr10_MATERNAL:39538510-39550326', \n",
    "               'chr10_MATERNAL:39486365-39498169', 'chr10_MATERNAL:39496794-39508598', 'chr10_MATERNAL:39507223-39519027', \n",
    "               'chr10_MATERNAL:39517652-39529456', 'chr10_MATERNAL:39528081-39539885']"
   ]
  },
  {
   "cell_type": "code",
   "execution_count": null,
   "metadata": {
    "ExecuteTime": {
     "start_time": "2023-11-12T02:52:47.221881Z"
    }
   },
   "outputs": [],
   "source": [
    "avu.PlotIntervals(stuff, other_stuff).plot_interval_on_chromo()"
   ]
  },
  {
   "cell_type": "code",
   "execution_count": null,
   "metadata": {
    "ExecuteTime": {
     "start_time": "2023-11-12T02:52:47.223695Z"
    }
   },
   "outputs": [],
   "source": [
    "stuff = []\n",
    "with open('../resources/chr1_deletions.txt', 'r') as file:\n",
    "    for line in file:\n",
    "        try:\n",
    "            line = line.strip()  # Remove leading/trailing whitespaces and newline characters\n",
    "            #print(line, check_interval(line, ReferenceLocations.hg38, hg38, hg002t2t))\n",
    "            print(\"Event:\", line, ip.interval_size(line))\n",
    "            stuff.append(get_flanking_pairs(line, ReferenceLocations.hg38, hg38, hg002t2t))\n",
    "            print()\n",
    "        except:\n",
    "            raise ValueError(\"Error on line: \" + line)\n"
   ]
  },
  {
   "cell_type": "code",
   "execution_count": null,
   "outputs": [],
   "source": [
    "stuff[0]"
   ],
   "metadata": {
    "collapsed": false,
    "ExecuteTime": {
     "start_time": "2023-11-12T02:52:47.225402Z"
    }
   }
  },
  {
   "cell_type": "code",
   "execution_count": null,
   "outputs": [],
   "source": [
    "stuff[1]"
   ],
   "metadata": {
    "collapsed": false,
    "ExecuteTime": {
     "start_time": "2023-11-12T02:52:47.226778Z"
    }
   }
  },
  {
   "cell_type": "code",
   "execution_count": null,
   "outputs": [],
   "source": [
    "stuff[2]['ref_flank']"
   ],
   "metadata": {
    "collapsed": false,
    "ExecuteTime": {
     "start_time": "2023-11-12T02:52:47.228119Z"
    }
   }
  },
  {
   "cell_type": "code",
   "execution_count": null,
   "outputs": [],
   "source": [
    "stuff[2]['truth_flank']\n"
   ],
   "metadata": {
    "collapsed": false,
    "ExecuteTime": {
     "start_time": "2023-11-12T02:52:47.229461Z"
    }
   }
  },
  {
   "cell_type": "code",
   "execution_count": null,
   "outputs": [],
   "source": [
    "import pysam\n",
    "with pysam.FastaFile(\"../test/mock_reference.fasta\") as ref_genome:\n",
    "    # Fetch the sequence\n",
    "    sequence = ref_genome.fetch(\"chr1\", 0, 101001)\n",
    "    print(sequence)"
   ],
   "metadata": {
    "collapsed": false,
    "ExecuteTime": {
     "start_time": "2023-11-12T02:52:47.230823Z"
    }
   }
  },
  {
   "cell_type": "code",
   "execution_count": null,
   "outputs": [],
   "source": [
    "import pysam"
   ],
   "metadata": {
    "collapsed": false,
    "ExecuteTime": {
     "start_time": "2023-11-12T02:52:47.232021Z"
    }
   }
  },
  {
   "cell_type": "code",
   "execution_count": null,
   "outputs": [],
   "source": [
    "def read_vcf_pysam(file_path):\n",
    "    vcf_file = pysam.VariantFile(file_path)\n",
    "    variants = []\n",
    "\n",
    "    for record in vcf_file:\n",
    "        # Extract desired information from each record\n",
    "        # Example: chromosome, position, id, reference base, alternative base(s), etc.\n",
    "        variant_info = {\n",
    "            'CHROM': record.chrom,\n",
    "            'POS': record.pos,\n",
    "            'ID': record.id,\n",
    "            'REF': record.ref,\n",
    "            'ALT': record.alts,\n",
    "            'QUAL': record.qual,\n",
    "            'FILTER': record.filter.keys(),\n",
    "            'INFO': dict(record.info),\n",
    "            'FORMAT': record.format\n",
    "        }\n",
    "        variants.append(variant_info)\n",
    "\n",
    "    return variants\n"
   ],
   "metadata": {
    "collapsed": false,
    "ExecuteTime": {
     "start_time": "2023-11-12T02:52:47.233500Z"
    }
   }
  },
  {
   "cell_type": "code",
   "execution_count": null,
   "outputs": [],
   "source": [
    "variants = pysam.VariantFile(\"../data/NA24385.cnv_sv.vcf.gz\")\n",
    "\n",
    "for record in variants:\n",
    "    if record.filter.keys() == ['PASS']:\n",
    "        print(record.id, record.info[\"SVTYPE\"], record.info[\"SVCLAIM\"][0], record.samples[0][\"GT\"])"
   ],
   "metadata": {
    "collapsed": false,
    "ExecuteTime": {
     "start_time": "2023-11-12T02:52:47.234514Z"
    }
   }
  },
  {
   "cell_type": "code",
   "execution_count": null,
   "outputs": [],
   "source": [],
   "metadata": {
    "collapsed": false,
    "ExecuteTime": {
     "start_time": "2023-11-12T02:52:47.235563Z"
    }
   }
  },
  {
   "cell_type": "code",
   "execution_count": 6,
   "outputs": [
    {
     "data": {
      "text/plain": "<module 'T2T_ACE.cnv_evaluator' from '/Users/fleharty/T2T-ACE/T2T_ACE/cnv_evaluator.py'>"
     },
     "execution_count": 6,
     "metadata": {},
     "output_type": "execute_result"
    }
   ],
   "source": [
    "import importlib\n",
    "import T2T_ACE.cnv_evaluator as ce\n",
    "importlib.reload(ce)"
   ],
   "metadata": {
    "collapsed": false,
    "ExecuteTime": {
     "end_time": "2023-11-12T02:52:55.364860Z",
     "start_time": "2023-11-12T02:52:55.354678Z"
    }
   }
  },
  {
   "cell_type": "code",
   "execution_count": 7,
   "outputs": [
    {
     "name": "stderr",
     "output_type": "stream",
     "text": [
      "INFO:root:Loading reference from: /Users/fleharty/resources/Homo_sapiens_assembly38.chr22.fasta.gz\n",
      "INFO:root:Loading reference from: /Users/fleharty/resources/hg002mat_v1.0.chr22.fasta.gz\n",
      "INFO:root:Loading reference from: /Users/fleharty/resources/hg002pat_v1.0.chr22.fasta.gz\n"
     ]
    }
   ],
   "source": [
    "cnv_evaluator = ce.CNVEvaluator(ReferenceLocations.hg38, ReferenceLocations.hg002t2tmat, ReferenceLocations.hg002t2tpat)"
   ],
   "metadata": {
    "collapsed": false,
    "ExecuteTime": {
     "end_time": "2023-11-12T02:52:58.665228Z",
     "start_time": "2023-11-12T02:52:55.600090Z"
    }
   }
  },
  {
   "cell_type": "code",
   "execution_count": 8,
   "outputs": [],
   "source": [
    "alignments = cnv_evaluator.align_cnv_for_evaluation(\"chr22:17289461-17298218\", \"DEL\", \"0/1\")"
   ],
   "metadata": {
    "collapsed": false,
    "ExecuteTime": {
     "end_time": "2023-11-12T02:52:58.754899Z",
     "start_time": "2023-11-12T02:52:58.661661Z"
    }
   }
  },
  {
   "cell_type": "code",
   "execution_count": 9,
   "outputs": [
    {
     "data": {
      "text/plain": "'chr22_MATERNAL:19802186-19802686'"
     },
     "execution_count": 9,
     "metadata": {},
     "output_type": "execute_result"
    }
   ],
   "source": [
    "au.extract_interval_from_hit(alignments.left_flank_maternal_hits[0])"
   ],
   "metadata": {
    "collapsed": false,
    "ExecuteTime": {
     "end_time": "2023-11-12T02:52:59.421546Z",
     "start_time": "2023-11-12T02:52:59.411579Z"
    }
   }
  },
  {
   "cell_type": "code",
   "execution_count": 10,
   "outputs": [
    {
     "data": {
      "text/plain": "'chr22_PATERNAL:15909633-15910133'"
     },
     "execution_count": 10,
     "metadata": {},
     "output_type": "execute_result"
    }
   ],
   "source": [
    "au.extract_interval_from_hit(alignments.left_flank_paternal_hits[0])\n"
   ],
   "metadata": {
    "collapsed": false,
    "ExecuteTime": {
     "end_time": "2023-11-12T02:52:59.958086Z",
     "start_time": "2023-11-12T02:52:59.956128Z"
    }
   }
  },
  {
   "cell_type": "code",
   "execution_count": 11,
   "outputs": [
    {
     "data": {
      "text/plain": "[<mappy.Alignment at 0x139b698c0>]"
     },
     "execution_count": 11,
     "metadata": {},
     "output_type": "execute_result"
    }
   ],
   "source": [
    "alignments.right_flank_maternal_hits"
   ],
   "metadata": {
    "collapsed": false,
    "ExecuteTime": {
     "end_time": "2023-11-12T02:53:00.441284Z",
     "start_time": "2023-11-12T02:53:00.439071Z"
    }
   }
  },
  {
   "cell_type": "code",
   "execution_count": 12,
   "outputs": [
    {
     "data": {
      "text/plain": "<mappy.Alignment at 0x139b69700>"
     },
     "execution_count": 12,
     "metadata": {},
     "output_type": "execute_result"
    }
   ],
   "source": [
    "alignments.left_flank_maternal_hits[0]"
   ],
   "metadata": {
    "collapsed": false,
    "ExecuteTime": {
     "end_time": "2023-11-12T02:53:00.708237Z",
     "start_time": "2023-11-12T02:53:00.705669Z"
    }
   }
  },
  {
   "cell_type": "code",
   "execution_count": 13,
   "outputs": [
    {
     "data": {
      "text/plain": "[<mappy.Alignment at 0x139b6a5e0>]"
     },
     "execution_count": 13,
     "metadata": {},
     "output_type": "execute_result"
    }
   ],
   "source": [
    "alignments.calling_reference_hits"
   ],
   "metadata": {
    "collapsed": false,
    "ExecuteTime": {
     "end_time": "2023-11-12T02:53:00.899974Z",
     "start_time": "2023-11-12T02:53:00.897792Z"
    }
   }
  },
  {
   "cell_type": "code",
   "execution_count": 14,
   "outputs": [
    {
     "data": {
      "text/plain": "'0/1'"
     },
     "execution_count": 14,
     "metadata": {},
     "output_type": "execute_result"
    }
   ],
   "source": [
    "alignments.genotype"
   ],
   "metadata": {
    "collapsed": false,
    "ExecuteTime": {
     "end_time": "2023-11-12T02:53:01.088432Z",
     "start_time": "2023-11-12T02:53:01.085401Z"
    }
   }
  },
  {
   "cell_type": "code",
   "execution_count": 15,
   "outputs": [
    {
     "data": {
      "text/plain": "'chr22:17289461-17298218'"
     },
     "execution_count": 15,
     "metadata": {},
     "output_type": "execute_result"
    }
   ],
   "source": [
    "alignments.location"
   ],
   "metadata": {
    "collapsed": false,
    "ExecuteTime": {
     "end_time": "2023-11-12T02:53:01.276135Z",
     "start_time": "2023-11-12T02:53:01.273883Z"
    }
   }
  },
  {
   "cell_type": "code",
   "execution_count": 16,
   "outputs": [
    {
     "data": {
      "text/plain": "[<mappy.Alignment at 0x139b6a5e0>]"
     },
     "execution_count": 16,
     "metadata": {},
     "output_type": "execute_result"
    }
   ],
   "source": [
    "alignments.calling_reference_hits"
   ],
   "metadata": {
    "collapsed": false,
    "ExecuteTime": {
     "end_time": "2023-11-12T02:53:03.153012Z",
     "start_time": "2023-11-12T02:53:03.146729Z"
    }
   }
  },
  {
   "cell_type": "code",
   "execution_count": null,
   "outputs": [],
   "source": [],
   "metadata": {
    "collapsed": false,
    "ExecuteTime": {
     "start_time": "2023-11-12T02:52:47.247025Z"
    }
   }
  }
 ],
 "metadata": {
  "kernelspec": {
   "name": "cnv_validation",
   "language": "python",
   "display_name": "cnv_validation"
  },
  "language_info": {
   "codemirror_mode": {
    "name": "ipython",
    "version": 3
   },
   "file_extension": ".py",
   "mimetype": "text/x-python",
   "name": "python",
   "nbconvert_exporter": "python",
   "pygments_lexer": "ipython3",
   "version": "3.11.5"
  }
 },
 "nbformat": 4,
 "nbformat_minor": 4
}
