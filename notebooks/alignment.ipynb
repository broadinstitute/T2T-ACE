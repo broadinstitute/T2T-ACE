{
 "cells": [
  {
   "cell_type": "code",
   "execution_count": null,
   "metadata": {
    "collapsed": false
   },
   "outputs": [],
   "source": [
    "import warnings\n",
    "warnings.filterwarnings( \"ignore\", module = \"seaborn\\..*\" )\n",
    "warnings.filterwarnings( \"ignore\", module = \"matplotlib\\..*\" )\n",
    "import T2T_ACE.alignment_utilities as au\n",
    "import T2T_ACE.validator as v\n",
    "import T2T_ACE.alignment_visualization_utilities as avu\n",
    "import notebooks.resource_locations as rl\n",
    "import importlib\n",
    "# Package version:\n",
    "# mappy 2.26\n",
    "# pysam 0.22.0\n",
    "# biopython 1.81"
   ]
  },
  {
   "cell_type": "code",
   "execution_count": null,
   "metadata": {},
   "outputs": [],
   "source": [
    "hg002t2t = au.load_reference(rl.ResourceLocations.hg002t2t)"
   ]
  },
  {
   "cell_type": "code",
   "execution_count": null,
   "outputs": [],
   "source": [
    "hg38 = au.load_reference(rl.ResourceLocations.hg38)"
   ],
   "metadata": {
    "collapsed": false
   }
  },
  {
   "cell_type": "code",
   "execution_count": null,
   "outputs": [],
   "source": [
    "# SIMPLE SMALL HET DELETION\n",
    "simple_het_deletion = \"chr1:103900576-103901103\"\n",
    "#ev = evaluate_deletion(ReferenceLocations.hg38, ReferenceLocations.hg002t2t, \"chr1:103900576-103901103\", hg38, hg002t2t, True)\n",
    "v.get_flanking_pairs(\"chr1:103900576-103901103\", rl.ResourceLocations.hg38, hg38, hg002t2t)\n"
   ],
   "metadata": {
    "collapsed": false
   }
  },
  {
   "cell_type": "code",
   "execution_count": null,
   "outputs": [],
   "source": [
    "importlib.reload(avu)"
   ],
   "metadata": {
    "collapsed": false
   }
  },
  {
   "cell_type": "code",
   "execution_count": null,
   "outputs": [],
   "source": [
    "importlib.reload(v)"
   ],
   "metadata": {
    "collapsed": false
   }
  },
  {
   "cell_type": "code",
   "execution_count": null,
   "outputs": [],
   "source": [
    "avu.PlotIntervals(['chr1:103900576-103901103', 'chr1:103900075-103900575', 'chr1:103901103-103901603'],['chr1_MATERNAL:104064755-104065255','chr1_MATERNAL:104065783-104066283','chr1_PATERNAL:104150915-104151415','chr1_PATERNAL:104151417-104151917']).plot_intervals_comparison(flanking=True)"
   ],
   "metadata": {
    "collapsed": false
   }
  },
  {
   "cell_type": "code",
   "execution_count": null,
   "outputs": [],
   "source": [
    "176509637 - 176509082"
   ],
   "metadata": {
    "collapsed": false
   }
  },
  {
   "cell_type": "code",
   "execution_count": null,
   "outputs": [],
   "source": [
    "# SIMPLE SMALL HOM DELETION\n",
    "#ev = evaluate_deletion(ReferenceLocations.hg38, ReferenceLocations.hg002t2t, \"chr1:176509082-176509637\", hg38, hg002t2t, True)\n",
    "v.get_flanking_pairs(\"chr1:176509082-176509637\", rl.ResourceLocations.hg38, hg38, hg002t2t)\n"
   ],
   "metadata": {
    "collapsed": false
   }
  },
  {
   "cell_type": "code",
   "execution_count": null,
   "outputs": [],
   "source": [
    "avu.PlotIntervals([\"chr1:176509082-176509637\",\"chr1:176508581-176509081\",\"chr1:176509637-176510137\"],['chr1_MATERNAL:171407464-171407964','chr1_MATERNAL:171407964-171408464','chr1_PATERNAL:179649935-179650435',\n",
    "   'chr1_PATERNAL:179650435-179650935']).plot_intervals_comparison(flanking=True)"
   ],
   "metadata": {
    "collapsed": false
   }
  },
  {
   "cell_type": "code",
   "execution_count": null,
   "outputs": [],
   "source": [
    "v.stuff2list(\"chr1:1934924-1935584\", v.get_flanking_pairs(\"chr1:1934924-1935584\", rl.ResourceLocations.hg38, hg38, hg002t2t))"
   ],
   "metadata": {
    "collapsed": false
   }
  },
  {
   "cell_type": "code",
   "execution_count": null,
   "outputs": [],
   "source": [
    "avu.PlotIntervals([\"chr1:1934924-1935584\",\"chr1:1934423-1934923\",\"chr1:1935584-1936084\"],['chr1_MATERNAL:1371707-1372207','chr1_MATERNAL:1372868-1373370','chr1_PATERNAL:1377673-1378207','chr1_PATERNAL:1378207-1378707']).plot_intervals_comparison(flanking=True)"
   ],
   "metadata": {
    "collapsed": false
   }
  },
  {
   "cell_type": "code",
   "execution_count": null,
   "outputs": [],
   "source": [
    "# DRAGEN-only DEL call with no associated dipcall variant\n",
    "# Why does the flanking regions are not matching in paternal chromosome?\n",
    "v.get_flanking_pairs(\"chr1:2122129-2124374\", rl.ResourceLocations.hg38, hg38, hg002t2t)"
   ],
   "metadata": {
    "collapsed": false
   }
  },
  {
   "cell_type": "code",
   "execution_count": null,
   "outputs": [],
   "source": [
    "v.stuff2list(\"chr1:6006004-6006574\",v.get_flanking_pairs(\"chr1:6006004-6006574\", rl.ResourceLocations.hg38, hg38, hg002t2t))"
   ],
   "metadata": {
    "collapsed": false
   }
  },
  {
   "cell_type": "code",
   "execution_count": null,
   "outputs": [],
   "source": [
    "avu.PlotIntervals(['chr1:6006004-6006574', 'chr1:6005503-6006003', 'chr1:6006574-6007074'],\n",
    " ['chr1_PATERNAL:5647421-5647916',\n",
    "  'chr1_PATERNAL:5649095-5649590',\n",
    "  'chr1_MATERNAL:5682930-5683427',\n",
    "  'chr1_MATERNAL:5683504-5684004']).plot_intervals_comparison(flanking=True)"
   ],
   "metadata": {
    "collapsed": false
   }
  },
  {
   "cell_type": "code",
   "execution_count": null,
   "outputs": [],
   "source": [
    "v.get_flanking_pairs(\"chr1:13235348-13240700\", rl.ResourceLocations.hg38, hg38, hg002t2t)"
   ],
   "metadata": {
    "collapsed": false
   }
  },
  {
   "cell_type": "code",
   "execution_count": null,
   "outputs": [],
   "source": [
    "v.stuff2list(\"chr1:13235348-13240700\",v.get_flanking_pairs(\"chr1:13235348-13240700\", rl.ResourceLocations.hg38, hg38, hg002t2t))"
   ],
   "metadata": {
    "collapsed": false
   }
  },
  {
   "cell_type": "code",
   "execution_count": null,
   "outputs": [],
   "source": [
    "avu.PlotIntervals(['chr1:13235348-13240700',\n",
    "  'chr1:13234847-13235347',\n",
    "  'chr1:13240700-13241200'],\n",
    " ['chr1_PATERNAL:12630587-12631087',\n",
    "  'chr1_PATERNAL:12800107-12800604',\n",
    "  'chr1_MATERNAL:12666389-12666889',\n",
    "  'chr1_MATERNAL:12883746-12884246','chr1_MATERNAL:12877875-12878376',\n",
    "   'chr1_MATERNAL:12883746-12884246']).plot_intervals_comparison(1000)"
   ],
   "metadata": {
    "collapsed": false
   }
  },
  {
   "cell_type": "code",
   "execution_count": null,
   "outputs": [],
   "source": [
    "#TODO 1: discuss distance between flanking regions with Mark (distance_between_intervals function)\n",
    "#TODO 2: Investigate FP DEL calls determined by wittyer using dipcall\n",
    "#TODO 3: README.md Add DUP evaluation to the README.md"
   ],
   "metadata": {
    "collapsed": false
   }
  },
  {
   "cell_type": "code",
   "execution_count": null,
   "outputs": [],
   "source": [
    "# COMPLEX DELETION chr1:247687159-247693213\n",
    "# Has 6 matches to hg38 chr1, why?\n",
    "#ev = evaluate_deletion(ReferenceLocations.hg38, ReferenceLocations.hg002t2t, \"chr1:247687159-247693213\", hg38, hg002t2t)\n",
    "v.get_flanking_pairs(\"chr1:247687159-247693213\", rl.ResourceLocations.hg38, hg38, hg002t2t)\n"
   ],
   "metadata": {
    "collapsed": false
   }
  },
  {
   "cell_type": "code",
   "execution_count": null,
   "metadata": {},
   "outputs": [],
   "source": [
    "# This is a DUP that we are going to check if it is a deletion\n",
    "#ev = evaluate_deletion(ReferenceLocations.hg38, ReferenceLocations.hg002t2t, \"chr1:248407554-248446847\", hg38, hg002t2t)\n",
    "v.get_flanking_pairs(\"chr1:248407554-248446847\", rl.ResourceLocations.hg38, hg38, hg002t2t)"
   ]
  },
  {
   "cell_type": "code",
   "outputs": [],
   "source": [],
   "metadata": {
    "collapsed": false
   },
   "execution_count": null
  }
 ],
 "metadata": {
  "kernelspec": {
   "name": "python3",
   "language": "python",
   "display_name": "Python 3 (ipykernel)"
  },
  "language_info": {
   "codemirror_mode": {
    "name": "ipython",
    "version": 3
   },
   "file_extension": ".py",
   "mimetype": "text/x-python",
   "name": "python",
   "nbconvert_exporter": "python",
   "pygments_lexer": "ipython3",
   "version": "3.11.5"
  }
 },
 "nbformat": 4,
 "nbformat_minor": 4
}
