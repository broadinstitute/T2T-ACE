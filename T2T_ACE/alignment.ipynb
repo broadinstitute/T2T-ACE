{
 "cells": [
  {
   "cell_type": "code",
   "execution_count": 1,
   "metadata": {
    "ExecuteTime": {
     "end_time": "2023-10-11T16:36:49.758537Z",
     "start_time": "2023-10-11T16:36:49.298820Z"
    }
   },
   "outputs": [],
   "source": [
    "import validator\n",
    "import alignment_utilities as au\n",
    "import alignment_visualization_utilities as avu\n",
    "from validator import check_interval, align_flanking_sequences"
   ]
  },
  {
   "cell_type": "code",
   "execution_count": 2,
   "metadata": {
    "collapsed": false,
    "ExecuteTime": {
     "end_time": "2023-10-11T16:36:49.762288Z",
     "start_time": "2023-10-11T16:36:49.759361Z"
    }
   },
   "outputs": [],
   "source": [
    "import warnings\n",
    "warnings.filterwarnings( \"ignore\", module = \"seaborn\\..*\" )\n",
    "warnings.filterwarnings( \"ignore\", module = \"matplotlib\\..*\" )"
   ]
  },
  {
   "cell_type": "code",
   "execution_count": 3,
   "outputs": [],
   "source": [
    "class ReferenceLocations:\n",
    "    whole_genome = True\n",
    "    if whole_genome:\n",
    "        hg002t2t = \"/Users/fleharty/resources/hg002v0.9.fasta.gz\"\n",
    "        chm13 = \"/Users/fleharty/resources/chm13v2.0.fa.gz\"\n",
    "        hg38 = \"/Users/fleharty/resources/Homo_sapiens_assembly38.fasta\"\n",
    "        variant_call_fasta = \"/Users/fleharty/AlignmentValidator/hg002_cnv_passing_variants_seq.fasta\"\n",
    "    else:\n",
    "        hg002t2t = \"/Users/fleharty/resources/hg002v0.9.chr1.fasta.gz\"\n",
    "        chm13 = \"/Users/fleharty/resources/chm13v2.0.chr1.fa.gz\"\n",
    "        hg38 = \"/Users/fleharty/resources/Homo_sapiens_assembly38.chr1.fasta.gz\"\n",
    "        variant_call_fasta = \"/Users/fleharty/AlignmentValidator/hg002_cnv_passing_variants_seq.chr1.fasta\""
   ],
   "metadata": {
    "collapsed": false,
    "ExecuteTime": {
     "end_time": "2023-10-11T16:36:49.777121Z",
     "start_time": "2023-10-11T16:36:49.762224Z"
    }
   }
  },
  {
   "cell_type": "code",
   "execution_count": 4,
   "metadata": {
    "ExecuteTime": {
     "end_time": "2023-10-11T16:38:22.381491Z",
     "start_time": "2023-10-11T16:36:49.765781Z"
    }
   },
   "outputs": [
    {
     "name": "stderr",
     "output_type": "stream",
     "text": [
      "INFO:root:Loading reference from: /Users/fleharty/resources/hg002v0.9.fasta.gz\n"
     ]
    }
   ],
   "source": [
    "hg002t2t = au.load_reference(ReferenceLocations.hg002t2t)"
   ]
  },
  {
   "cell_type": "code",
   "execution_count": null,
   "outputs": [],
   "source": [
    "hg38 = au.load_reference(ReferenceLocations.hg38)"
   ],
   "metadata": {
    "collapsed": false,
    "is_executing": true,
    "ExecuteTime": {
     "start_time": "2023-10-11T16:38:22.404056Z"
    }
   }
  },
  {
   "cell_type": "code",
   "execution_count": null,
   "outputs": [],
   "source": [
    "import importlib\n",
    "importlib.reload(validator)\n",
    "\n",
    "flanking_alignments = validator.align_flanking_sequences(\"chr1:103900576-103901103\", ReferenceLocations.hg38, hg38, hg002t2t)\n",
    "flanking_alignments"
   ],
   "metadata": {
    "collapsed": false,
    "is_executing": true
   }
  },
  {
   "cell_type": "code",
   "execution_count": null,
   "outputs": [],
   "source": [
    "print(flanking_alignments[\"left_truth_flank\"])\n",
    "print(\"\")\n",
    "print(flanking_alignments[\"right_truth_flank\"])"
   ],
   "metadata": {
    "collapsed": false,
    "is_executing": true
   }
  },
  {
   "cell_type": "code",
   "execution_count": null,
   "outputs": [],
   "source": [
    "ev = validator.evaluate_deletion(ReferenceLocations.hg38, ReferenceLocations.hg002t2t, \"chr1:103900576-103901103\", hg38, hg002t2t, True)\n"
   ],
   "metadata": {
    "collapsed": false,
    "is_executing": true
   }
  },
  {
   "cell_type": "code",
   "execution_count": null,
   "outputs": [],
   "source": [
    "# SIMPLE SMALL HET DELETION\n",
    "ev = validator.evaluate_deletion(ReferenceLocations.hg38, ReferenceLocations.hg002t2t, \"chr1:103900576-103901103\", hg38, hg002t2t, True)"
   ],
   "metadata": {
    "collapsed": false,
    "is_executing": true
   }
  },
  {
   "cell_type": "code",
   "execution_count": null,
   "outputs": [],
   "source": [
    "check_interval(\"chr1:103900576-103901103\", ReferenceLocations.hg38, hg38, hg002t2t)"
   ],
   "metadata": {
    "collapsed": false,
    "is_executing": true
   }
  },
  {
   "cell_type": "code",
   "execution_count": null,
   "metadata": {
    "is_executing": true
   },
   "outputs": [],
   "source": [
    "# SIMPLE SMALL HOM DELETION\n",
    "ev = validator.evaluate_deletion(ReferenceLocations.hg38, ReferenceLocations.hg002t2t, \"chr1:176509082-176509637\", hg38, hg002t2t, True)"
   ]
  },
  {
   "cell_type": "code",
   "execution_count": null,
   "outputs": [],
   "source": [],
   "metadata": {
    "collapsed": false,
    "is_executing": true
   }
  },
  {
   "cell_type": "code",
   "execution_count": null,
   "metadata": {
    "is_executing": true
   },
   "outputs": [],
   "source": [
    "# COMPLEX DELETION chr1:247687159-247693213\n",
    "# Has 6 matches to hg38 chr1, why?\n",
    "ev = validator.evaluate_deletion(ReferenceLocations.hg38, ReferenceLocations.hg002t2t, \"chr1:247687159-247693213\", hg38, hg002t2t)"
   ]
  },
  {
   "cell_type": "code",
   "execution_count": null,
   "metadata": {
    "is_executing": true
   },
   "outputs": [],
   "source": [
    "# This is a DUP that we are going to check if it is a deletion\n",
    "ev = validator.evaluate_deletion(ReferenceLocations.hg38, ReferenceLocations.hg002t2t, \"chr1:248407554-248446847\", hg38, hg002t2t)"
   ]
  },
  {
   "cell_type": "code",
   "execution_count": null,
   "outputs": [],
   "source": [
    "# This is a Dragen DEL call that is filtered by MinQUAL\n",
    "cev = validator.evaluate_deletion(ReferenceLocations.hg38, ReferenceLocations.hg002t2t, \"chr1:3643704-3644335\", hg38, hg002t2t)"
   ],
   "metadata": {
    "collapsed": false,
    "is_executing": true
   }
  },
  {
   "cell_type": "code",
   "execution_count": null,
   "outputs": [],
   "source": [
    "# This is a Dragen DEL call that is filtered by cnvLength\n",
    "# Note that the joined sequence on hg002 only matches (0-50) on PATERNAL, and there is no (51-100) match on PATERNAL.\n",
    "# I think this is because the Dragen caller may be estimating the size too small?\n",
    "ev = validator.evaluate_deletion(ReferenceLocations.hg38, ReferenceLocations.hg002t2t, \"chr1:14109814-14112366\", hg38, hg002t2t)"
   ],
   "metadata": {
    "collapsed": false,
    "is_executing": true
   }
  },
  {
   "cell_type": "code",
   "execution_count": null,
   "metadata": {
    "is_executing": true
   },
   "outputs": [],
   "source": [
    "stuff = ['chr10:39521557-39533371']\n",
    "other_stuff = ['chr10_PATERNAL:39521557-39533371', 'chr10_MATERNAL:39475935-39487740', 'chr10_MATERNAL:39538510-39550326', \n",
    "               'chr10_MATERNAL:39486365-39498169', 'chr10_MATERNAL:39496794-39508598', 'chr10_MATERNAL:39507223-39519027', \n",
    "               'chr10_MATERNAL:39517652-39529456', 'chr10_MATERNAL:39528081-39539885']"
   ]
  },
  {
   "cell_type": "code",
   "execution_count": null,
   "metadata": {
    "is_executing": true
   },
   "outputs": [],
   "source": [
    "avu.PlotIntervals(stuff, other_stuff).plot_interval_on_chromo()"
   ]
  },
  {
   "cell_type": "code",
   "execution_count": null,
   "metadata": {
    "is_executing": true
   },
   "outputs": [],
   "source": []
  },
  {
   "cell_type": "code",
   "execution_count": null,
   "metadata": {
    "is_executing": true
   },
   "outputs": [],
   "source": [
    "with open('../resources/chr1_deletions.txt', 'r') as file:\n",
    "    for line in file:\n",
    "        line = line.strip()  # Remove leading/trailing whitespaces and newline characters\n",
    "        print(line, check_interval(line, ReferenceLocations.hg38, hg38, hg002t2t))\n"
   ]
  },
  {
   "cell_type": "code",
   "execution_count": null,
   "outputs": [],
   "source": [
    "validator.evaluate_deletion(ReferenceLocations.hg38, ReferenceLocations.hg002t2t, \"chr17:46135410-46292238\", hg38, hg002t2t, True)"
   ],
   "metadata": {
    "collapsed": false,
    "is_executing": true
   }
  },
  {
   "cell_type": "code",
   "execution_count": null,
   "outputs": [],
   "source": [
    "validator.evaluate_deletion(ReferenceLocations.hg38, ReferenceLocations.hg002t2t, \"chr17:46135410-46292238\", hg38, hg002t2t, True)"
   ],
   "metadata": {
    "collapsed": false,
    "is_executing": true
   }
  },
  {
   "cell_type": "code",
   "execution_count": null,
   "outputs": [],
   "source": [],
   "metadata": {
    "collapsed": false,
    "is_executing": true
   }
  }
 ],
 "metadata": {
  "kernelspec": {
   "name": "cnv_validation",
   "language": "python",
   "display_name": "cnv_validation"
  },
  "language_info": {
   "codemirror_mode": {
    "name": "ipython",
    "version": 3
   },
   "file_extension": ".py",
   "mimetype": "text/x-python",
   "name": "python",
   "nbconvert_exporter": "python",
   "pygments_lexer": "ipython3",
   "version": "3.11.5"
  }
 },
 "nbformat": 4,
 "nbformat_minor": 4
}
